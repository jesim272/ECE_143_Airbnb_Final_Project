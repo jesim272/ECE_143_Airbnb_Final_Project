{
 "cells": [
  {
   "cell_type": "markdown",
   "metadata": {},
   "source": [
    "# Question 1 \n",
    "Sample bitstrings Part 1: \n",
    "Random samples for a finite population of bitstrings\n",
    "Given a number of bits, write the get_sample function to return a list n of random samples from a finite probability mass function defined by a dictionary with keys defined by a specified number of bits. For example, given 3 bits, we have the following dictionary that defines the probability of each of the keys. The values of the dictionary correspond of the probability of drawing any one of these. For example, if all of these were equally likely, then here is the corresponding dictionary p,\n",
    "\n",
    " p={'000': 0.125, \n",
    " '001': 0.125, \n",
    " '010': 0.125, \n",
    " '011': 0.125, \n",
    " '100': 0.125, \n",
    " '101': 0.125, \n",
    " '110': 0.125, \n",
    " '111': 0.125} \n",
    " \n",
    "Your get_sample function should return something like the following,\n",
    "\n",
    "get_sample(nbits=3,prob=p,n=4)\n",
    "<br>['101', '000', '001', '100']"
   ]
  },
  {
   "cell_type": "markdown",
   "metadata": {},
   "source": [
    "**Validation Tests** <br>\n",
    "Check for corner cases and constraints in the inputs enlist all cases used for testing"
   ]
  },
  {
   "cell_type": "code",
   "execution_count": null,
   "metadata": {},
   "outputs": [],
   "source": [
    "assert (nbits, int), \"nbits must be an integer\"\n",
    "assert nbits > 0, \"nbits must be positive\"\n",
    "assert (n, int), \"n must be an integer\"\n",
    "assert n > 0, \"n must be positive\"\n",
    "assert (prob, dict), \"prob must be a dictionary\"\n",
    "assert (0 <= y <= 1 for y in prob.values()), \"prob must be in range 0-1\"\n",
    "assert round(sum(list(prob.values())), 5) == 1, \"prob must sum up to one\"\n",
    "assert (len(y)==nbits for y in prob.keys()), \"the length of key in prob must equal to nbits\"\n",
    "assert len(list(prob.keys()))==2**nbits , \"prob must have 2**nbits keys\"\n",
    "# Add additional tests here"
   ]
  },
  {
   "cell_type": "markdown",
   "metadata": {},
   "source": [
    "**Functional Tests** <br>\n",
    "Check function output matches expected result enlist all cases used for testing"
   ]
  },
  {
   "cell_type": "code",
   "execution_count": null,
   "metadata": {},
   "outputs": [],
   "source": [
    "nbits = 4\n",
    "prob = {'0000': 0.1, '0001': 0.05, '0010': 0.05, '0011': 0.1,'0100': 0.025,'0101': 0.025,'0110': 0.1,'0111': 0.05,'1000': 0, '1001': 0.15, '1010': 0.15, '1011': 0.05, '1100': 0, '1101': 0.1, '1110': 0, '1111': 0.05}\n",
    "n = 10000\n",
    "result_list = get_sample(nbits, prob, n)\n",
    "assert isinstance(result_list, list)\n",
    "for result in result_list:\n",
    "    assert result in prob.keys() and (prob[result] > 0)"
   ]
  },
  {
   "cell_type": "code",
   "execution_count": null,
   "metadata": {},
   "outputs": [],
   "source": [
    "nbits = 5\n",
    "prob = {'0000': 0.03125, '0001': 0.03125, '0010': 0.03125, '0011': 0.03125,'0100': 0.03125,'0101': 0.03125,'0110': 0.03125,'0111': 0.03125,'1000': 0.03125, '1001': 0.03125, '1010': 0.03125, '1011': 0.03125, '1100': 0.03125, '1101': 0.03125, '1110': 0.03125, '1111': 0.03125, '10000': 0.03125, '10001': 0.03125, '10010': 0.03125, '10011': 0.03125,'10100': 0.03125,'10101': 0.03125,'10110': 0.03125,'10111': 0.03125,'11000': 0.03125, '11001': 0.03125, '11010': 0.03125, '11011': 0.03125, '11100': 0.03125, '11101': 0.03125, '11110': 0.03125, '11111': 0.03125}\n",
    "n = 10000\n",
    "result_list = get_sample(nbits, prob, n)\n",
    "assert isinstance(result_list, list)\n",
    "for result in result_list:\n",
    "    assert result in prob.keys() and (prob[result] > 0)"
   ]
  },
  {
   "cell_type": "code",
   "execution_count": null,
   "metadata": {},
   "outputs": [],
   "source": [
    "nbits = 1\n",
    "prob = {\n",
    "'0':0.5,\n",
    "'1':0.5\n",
    "}\n",
    "n = 5\n",
    "result_list = get_sample(nbits, prob, n)\n",
    "assert isinstance(result_list, list)\n",
    "for result in result_list:\n",
    "    assert result in prob.keys() and (prob[result] > 0)"
   ]
  },
  {
   "source": [
    "# Question 2 \n",
    "Sample bitstrings Part 2\n",
    "Write a function map_bitstring that takes a list of bitstrings (i.e., 0101) and maps each bitstring to 0 if the number of 0s in the bitstring strictly exceeds the number of 1s. Otherwise, map that bitstring to 1. The output of your function is a dictionary of the so-described key-value pairs.\n",
    "Here is an example:\n",
    "\n",
    "\n",
    "x= ['100', '100', '110', '010', '111', '000', '110', '010', '011', '000']\n",
    "<br>map_bitstring(x) \n",
    "<br> {'100': 0, '110': 1, '010': 0, '111': 1, '000': 0, '011': 1}"
   ],
   "cell_type": "markdown",
   "metadata": {}
  },
  {
   "source": [
    "**Validation Tests** <br>\n",
    "Check for corner cases and constraints in the inputs enlist all cases used for testing"
   ],
   "cell_type": "markdown",
   "metadata": {}
  },
  {
   "cell_type": "code",
   "execution_count": null,
   "metadata": {},
   "outputs": [],
   "source": [
    "# Add additional tests here\n",
    "assert isinstance(x, list), \"x must be a list\"\n",
    "assert all(isinstance(t, str) for t in x), \"every item in x must be a str\"\n",
    "assert all(all(t == '0' or t == '1' for t in string) for string in x), \"every string in x must only contain 0 and 1\""
   ]
  },
  {
   "source": [
    "**Functional Tests** <br>\n",
    "Check function output matches expected result enlist all cases used for testing"
   ],
   "cell_type": "markdown",
   "metadata": {}
  },
  {
   "cell_type": "code",
   "execution_count": null,
   "metadata": {},
   "outputs": [],
   "source": [
    "x = ['100','0','10101', '11','100','100','0','10101', '11','100','100','0','10101', '11','100',\n",
    "'11111','00']\n",
    "result = {'100': 0, '0': 0, '10101': 1, '11': 1, '11111': 1, '00': 0}\n",
    "function_result =  map_bitstring(x)\n",
    "assert isinstance(function_result, dict)\n",
    "for i in result.keys():\n",
    "    assert result[i] ==function_result[i], 'check item {:}'.format(i)"
   ]
  },
  {
   "source": [
    "x = ['1000', '1111', '1', '0','10','01','11000','1100']\n",
    "result = {'1000': 0, '1111':1, '1100':1, '11000':0, '1':1, '0':0, '10':1, '01':1}\n",
    "function_result =  map_bitstring(x)\n",
    "assert isinstance(function_result, dict)\n",
    "for i in result.keys():\n",
    "    assert result[i] ==function_result[i], 'check item {:}'.format(i)"
   ],
   "cell_type": "code",
   "metadata": {},
   "execution_count": null,
   "outputs": []
  },
  {
   "cell_type": "code",
   "execution_count": null,
   "metadata": {},
   "outputs": [],
   "source": [
    "x = ['0000', '0001', '0010', '0011', '0100', '0101', '0110', '0111', '1000', '1001', '1010', '1011', '1100', '1101', '1110', '1111']\n",
    "result = {'0000': 0, '0001': 0, '0010': 0, '0011': 1, '0100': 0, '0101': 1, '0110': 1, '0111': 1, '1000': 0, '1001': 1, '1010': 1, '1011': 1, '1100': 1, '1101': 1, '1110': 1, '1111': 1}\n",
    "function_result =  map_bitstring(x)\n",
    "assert isinstance(function_result, dict)\n",
    "for i in result.keys():\n",
    "    assert result[i] ==function_result[i], 'check item {:}'.format(i)"
   ]
  },
  {
   "source": [
    "# Question 3 \n",
    "Sample bitstrings Part 3: Gather by values\n",
    "\n",
    "Now that you have get_sample working, generate n samples and tally the number of times an existing key is repeated. Generate a new dictionary with bitstrings as keys and with values as lists that contain the corresponding mapped values from map_bitstring. Here is an example for n=20,\n",
    "\n",
    "<br>>>>x=get_sample(nbits=2,prob={'00':1/4,'01':1/4,'10':1/4,'11':1/4},n=20)\n",
    "<br>>>>print(x)\n",
    "<br> ['10', '11', '01', '00', '10', '00', '00', '11', '10', '00', '00', '01', '01', '11', '10', '00', '11', '10', '11', '11']\n",
    " \n",
    "Write a function gather_values that can produce the following output from x:\n",
    "\n",
    "{'10': [1, 1, 1, 1, 1],\n",
    "<br> '11': [1, 1, 1, 1, 1, 1],\n",
    "<br> '01': [1, 1, 1],\n",
    "<br> '00': [0, 0, 0, 0, 0, 0]}"
   ],
   "cell_type": "markdown",
   "metadata": {}
  },
  {
   "source": [
    "**Validation Tests** <br>\n",
    "Check for corner cases and constraints in the inputs enlist all cases used for testing"
   ],
   "cell_type": "markdown",
   "metadata": {}
  },
  {
   "cell_type": "code",
   "execution_count": null,
   "metadata": {},
   "outputs": [],
   "source": [
    "# Add additional tests here\n",
    "assert isinstance(x, list), \"x must be a list\"\n",
    "assert all(isinstance(t, str) for t in x), \"every item in x must be a str\"\n",
    "assert all(all(t == '0' or t == '1' for t in string) for string in x), \"every string in x must only contain 0 and 1\""
   ]
  },
  {
   "source": [
    "**Functional Tests** <br>\n",
    "Check function output matches expected result enlist all cases used for testing"
   ],
   "cell_type": "markdown",
   "metadata": {}
  },
  {
   "cell_type": "code",
   "execution_count": null,
   "metadata": {},
   "outputs": [],
   "source": [
    "x = ['101', '101', '110', '101', '101', '110','101', '101', '110',\n",
    "    '101', '101', '110','101', '101', '110', '000', '101', '111', '110', '000', \n",
    "    '101', '111', '110', '000', '101', '111', '110', '000', '101', '111', '110', '000', '101', '111']\n",
    "\n",
    "result = {'101': [1, 1, 1, 1, 1, 1, 1, 1, 1, 1, 1, 1, 1, 1, 1], '110': [1, 1, 1, 1, 1, 1, 1, 1, 1], '000': [0, 0, 0, 0, 0], '111': [1, 1, 1, 1, 1]}\n",
    "\n",
    "function_result =  gather_values(x)\n",
    "assert isinstance(function_result, dict)\n",
    "for i in result.keys():\n",
    "    assert result[i] ==function_result[i], 'check item {:}'.format(i)"
   ]
  },
  {
   "cell_type": "code",
   "execution_count": null,
   "metadata": {},
   "outputs": [],
   "source": [
    "x = ['1101', '1010','1101', '1010','1101', '1010','1101', '1010','1101', '1010','1000','1000','1010','1101', '1010','1000','1000','1010','1101', '1010','1000','1000','1010','1101', '1010','1000','1000']\n",
    "\n",
    "result = {'1101': [1, 1, 1, 1, 1, 1, 1, 1], '1010': [1, 1, 1, 1, 1, 1, 1, 1, 1, 1, 1], '1000': [0, 0, 0, 0, 0, 0, 0, 0]}\n",
    "\n",
    "function_result =  gather_values(x)\n",
    "assert isinstance(function_result, dict)\n",
    "for i in result.keys():\n",
    "    assert result[i] ==function_result[i], 'check item {:}'.format(i)"
   ]
  },
  {
   "source": [
    "# Question 4 \n",
    "Sample bitstrings Part 4: Threshold sample counts\n",
    "From gather_values, we can group the results of the random samples. Now, we want to threshold those values based upon their frequency and value. Given threshold=2, we want to keep only those bitstrings with the two highest frequency counts of the 1 value. For example, as before we have,\n",
    "\n",
    "\n",
    "x=['10', '11', '01', '00', '10', '00', '00', '11', '10', '00', '00', '01', '01', '11', '10', '00', '11', '10', '11', '11']\n",
    "according to our last result, we had\n",
    "{'10':[1, 1, 1, 1, 1],\n",
    "'11': [1, 1, 1, 1, 1, 1],\n",
    "'01': [1, 1, 1],\n",
    "'00': [0, 0, 0, 0, 0, 0]}\n",
    "But because the threshold=2, we only want to keep the bitstrings with the two most frequent 1s and set all of the rest to 0. In this case, this is 10 and 11 with the following output:\n",
    "\n",
    "\n",
    "{'10': 1,\n",
    "'11': 1,\n",
    "'01': 0,\n",
    "'00': 0}\n",
    "Note that 01 corresponding value was set to 0 because it did not have the top two most frequent values of 1. If there is a tie, then use the smallest value the tied bitstrings to pick the winner. Here is a more detailed example:\n",
    "\n",
    "\n",
    "seq= ['1111', '0110', '1001', '0011', '0111', '0100', '0111', '1100', '0011', '0010', '0010', '1010', '1010', '1100', '0110', '0101', '0110', '1111', '1001', '0110', '0010', '1101', '0101', '0010', '0100', '0010', '0000', '0000', '0011', '0110', '0101', '1010', '1011', '1101', '1100', '0111', '1110', '0100', '0110', '1101', '0001', '1110', '0010', '0001', '1010', '1010', '0011', '1000', '0010', '0000', '1010', '1101', '1111', '1000', '1000', '0010', '1010', '0101', '0101', '1101', '0110', '1001', '1100', '1100', '1000', '1010', '0011', '0101', '0101', '0011', '0001', '1010', '0011', '0011', '1101', '1010', '0101', '0011', '1011', '0101', '0000', '1111', '1001', '0101', '1100', '0011', '1111', '1101', '0001', '1111', '1110', '1111', '0001', '0010', '0110', '0100', '0101', '1100', '1110', '1001']\n",
    "\n",
    "\n",
    "With corresponding output from threshold_values,\n",
    "<br>>>>threshold_values(seq,3)\n",
    " {'0000': 0, '0001': 0, '0010': 0, '0011': 1, '0100': 0, '0101': 1, '0110': 0, '0111': 0, '1000': 0, '1001': 0, '1010': 1, '1011': 0, '1100': 0, '1101': 0, '1110': 0, '1111': 0}\n",
    "Your function signature is threshold_values(seq,threshold=1). Please keep the default values as given in the function signature."
   ],
   "cell_type": "markdown",
   "metadata": {}
  },
  {
   "source": [
    "**Validation Tests** <br>\n",
    "Check for corner cases and constraints in the inputs enlist all cases used for testing"
   ],
   "cell_type": "markdown",
   "metadata": {}
  },
  {
   "source": [
    "# Add additional tests here\n",
    "assert isinstance(seq, list), \"seq must be a list\"\n",
    "assert isinstance(threshold, int), \"threshold must be a int\"\n",
    "assert threshold > 0\n",
    "assert threshold <= len(seq) \n",
    "assert all(isinstance(t, str) for t in seq), \"every item in seq must be a str\"\n",
    "assert all(all(t == '0' or t == '1' for t in string) for string in seq), \"every string in seq must only contain 0 and 1\"\n"
   ],
   "cell_type": "code",
   "metadata": {},
   "execution_count": null,
   "outputs": []
  },
  {
   "source": [
    "**Functional Tests** <br>\n",
    "Check function output matches expected result enlist all cases used for testing"
   ],
   "cell_type": "markdown",
   "metadata": {}
  },
  {
   "cell_type": "code",
   "execution_count": null,
   "metadata": {},
   "outputs": [],
   "source": [
    "seq = ['1111', '0110', '1001', '0011', '0111', '0100', '0111', '1100', '0011', '0010', '0010', '1010', '1010', '1100', '0110', '0101', '0110', '1111', '1001', '0110', '0010', '1101', '0101', '0010', '0100', '0010', '0000', '0000', '0011', '0110', '0101', '1010', '1011', '1101', '1100', '0111', '1110', '0100', '0110', '1101', '0001', '1110', '0010', '0001', '1010', '1010', '0011', '1000', '0010', '0000', '1010', '1101', '1111', '1000', '1000', '0010', '1010', '0101', '0101', '1101', '0110', '1001', '1100', '1100', '1000', '1010', '0011', '0101', '0101', '0011', '0001', '1010', '0011', '0011', '1101', '1010', '0101', '0011', '1011', '0101', '0000', '1111', '1001', '0101', '1100', '0011', '1111', '1101', '0001', '1111', '1110', '1111', '0001', '0010', '0110', '0100', '0101', '1100', '1110', '1001']\n",
    "threshold_values = 3\n",
    "result = {'0101': 1, '1010': 1, '0011': 1, '1111': 0, '0110': 0, '1001': 0, '0111': 0, '0100': 0, '1100': 0, '0010': 0, '1101': 0, '0000': 0, '1011': 0, '1110': 0, '0001': 0, '1000': 0}\n",
    "function_result =  threshold_values(seq, threshold_values)\n",
    "assert isinstance(function_result, dict)\n",
    "for i in result.keys():\n",
    "    assert result[i] ==function_result[i], 'check item {:}'.format(i)"
   ]
  },
  {
   "cell_type": "code",
   "execution_count": null,
   "metadata": {},
   "outputs": [],
   "source": [
    "seq = ['101', '101', '110', '101', '101', '110','101', '101', '110',\n",
    "    '101', '101', '110','101', '101', '110', '000', '101', '111', '110', '000', \n",
    "    '101', '111', '110', '000', '101', '111', '110', '000', '101', '111', '110', '000', '101', '111']\n",
    "threshold_values = 2\n",
    "result = {'101': 1, '110': 1, '000': 0, '111': 0}\n",
    "function_result =  threshold_values(seq, threshold_values)\n",
    "assert isinstance(function_result, dict)\n",
    "for i in result.keys():\n",
    "    assert result[i] ==function_result[i], 'check item {:}'.format(i)"
   ]
  },
  {
   "source": [
    "# Question 5 \n",
    "Sequential Descrambler\n",
    "\n",
    "You are given a sequence of n lower-case letters and a k-tuple of integers that indicate partition-lengths of the sequence. Also, you have a dictionary of commonly used words. The n letters represent a phrase of k words where the length of the jth word is the jth element of the tuple.\n",
    "\n",
    "Here is an example: w = 'trleeohelh' , k=(5,5). Your generator descrambler(w,k) should iteratively yield the output ['hello three','three hello','hello there','there hello']. Note that because both words have 5 characters, it is not possible to definitively know the order of the phrase.\n",
    "\n",
    "Here are more interesting examples:\n",
    "\n",
    "<br> >>> list(descrambler('choeounokeoitg',(3,5,6)))\n",
    "<br>['one tough cookie',\n",
    "<br>'one ought cookie',\n",
    "<br>'neo tough cookie',\n",
    "<br>'neo ought cookie']\n",
    "<br> >>> list(descrambler('qeodwnsciseuesincereins',(4,7,12)))\n",
    "<br>['wise insider consequences']\n",
    " \n",
    "Hints\n",
    "\n",
    "1. Use a hash-map to process the input file of valid words\n",
    "2. The order of the strings in the output sequence is irrelevent.\n",
    "Within each output string, the order of words should follow the sequence of word-lengths in k.\n",
    "3. Use itertools.\n",
    "3. The autograder may time out if your solution is too slow.\n",
    "4. The word list above is in a file /tmp/google-10000-english-no-swears.txt on the autograder."
   ],
   "cell_type": "markdown",
   "metadata": {}
  },
  {
   "source": [
    "**Validation Tests** <br>\n",
    "Check for corner cases and constraints in the inputs enlist all cases used for testing"
   ],
   "cell_type": "markdown",
   "metadata": {}
  },
  {
   "cell_type": "code",
   "execution_count": null,
   "metadata": {},
   "outputs": [],
   "source": [
    "assert (w, str), \"w must be a str\"\n",
    "assert len(w) > 0, \"length of w must be positive\"\n",
    "assert (k, tuple), \"k must be a tuple\"\n",
    "assert len(k) > 1, \"k must have at least two elements\"\n",
    "assert sum(k) == len(w), \"sum of items in k must equal to w's length\"\n",
    "assert all(item > 0 and item <= 20 for item in k), \"the length of every word must be in range 0-20\"\n",
    "assert w.islower(), \"all the letters in w must be lower-case\"\n",
    "# Add additional tests here"
   ]
  },
  {
   "source": [
    "**Functional Tests** <br>\n",
    "Check function output matches expected result enlist all cases used for testing"
   ],
   "cell_type": "markdown",
   "metadata": {}
  },
  {
   "cell_type": "code",
   "execution_count": null,
   "metadata": {},
   "outputs": [],
   "source": [
    "import types\n",
    "w = \"vphuteenrsiitlyo\"\n",
    "k = (1,5,10)\n",
    "result = ['p hotel university']\n",
    "\n",
    "final_result = descrambler(w,k)\n",
    "assert isinstance(final_result, types.GeneratorType)\n",
    "final_result_list = list(final_result)\n",
    "for words in result:\n",
    "    assert words in final_result_list \n",
    "for words in final_result_list:\n",
    "    assert words in result "
   ]
  },
  {
   "cell_type": "code",
   "execution_count": null,
   "metadata": {},
   "outputs": [],
   "source": [
    "w = \"forummuchfile\"\n",
    "k = (4,4,5)\n",
    "result = ['life much forum', 'much life forum', 'much file forum', 'much four filme', 'file much forum', 'four much filme']\n",
    "\n",
    "final_result = descrambler(w,k)\n",
    "assert isinstance(final_result, types.GeneratorType)\n",
    "final_result_list = list(final_result)\n",
    "for words in result:\n",
    "    assert words in final_result_list \n",
    "for words in final_result_list:\n",
    "    assert words in result "
   ]
  },
  {
   "cell_type": "code",
   "execution_count": null,
   "metadata": {},
   "outputs": [],
   "source": [
    "w = 'bothgcounty'\n",
    "k = (4,1,6)\n",
    "result = ['both g county', 'tony c bought']\n",
    "\n",
    "final_result = descrambler(w,k)\n",
    "assert isinstance(final_result, types.GeneratorType)\n",
    "final_result_list = list(final_result)\n",
    "for words in result:\n",
    "    assert words in final_result_list \n",
    "for words in final_result_list:\n",
    "    assert words in result "
   ]
  }
 ],
 "metadata": {
  "kernelspec": {
   "display_name": "Python 3",
   "language": "python",
   "name": "python3"
  },
  "language_info": {
   "codemirror_mode": {
    "name": "ipython",
    "version": 3
   },
   "file_extension": ".py",
   "mimetype": "text/x-python",
   "name": "python",
   "nbconvert_exporter": "python",
   "pygments_lexer": "ipython3",
   "version": "3.9.0"
  }
 },
 "nbformat": 4,
 "nbformat_minor": 4
}